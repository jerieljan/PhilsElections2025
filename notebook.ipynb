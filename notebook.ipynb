{
 "cells": [
  {
   "metadata": {},
   "cell_type": "markdown",
   "source": [
    "# Philippines Elections 2025 - Data Processing\n",
    "\n",
    "This notebook processes raw election data to make it more usable for analysis:\n",
    "1. Standardizes politician names for consistent matching\n",
    "2. Converts data to CSV format for easier loading with pandas\n",
    "3. Creates a name mapping file to help with matching candidates across datasets\n"
   ],
   "id": "183506067f048c88"
  },
  {
   "metadata": {
    "ExecuteTime": {
     "end_time": "2025-05-13T12:32:55.327044Z",
     "start_time": "2025-05-13T12:32:50.529235Z"
    }
   },
   "cell_type": "code",
   "source": [
    "# Import required libraries\n",
    "import pandas as pd\n",
    "import re\n",
    "import os\n",
    "\n",
    "# Create processed data directory if it doesn't exist\n",
    "os.makedirs('data/processed', exist_ok=True)\n"
   ],
   "id": "c109a8fe9b76e1e",
   "outputs": [],
   "execution_count": 1
  },
  {
   "metadata": {},
   "cell_type": "markdown",
   "source": [
    "## Name Standardization\n",
    "\n",
    "One of the main challenges with the raw data is inconsistent naming of politicians. For example:\n",
    "- \"GO, BONG GO\" vs \"Bong Go\"\n",
    "- \"AQUINO, BAM\" vs \"Bam Aquino\"\n",
    "- \"DELA ROSA, BATO\" vs \"Bato dela Rosa\"\n",
    "\n",
    "The function below standardizes names to a consistent format.\n"
   ],
   "id": "9e8c5aa469dc4031"
  },
  {
   "metadata": {},
   "cell_type": "code",
   "outputs": [],
   "execution_count": null,
   "source": [
    "def standardize_name(name):\n",
    "    \"\"\"\n",
    "    Standardize politician names to a consistent format.\n",
    "    Convert to title case and handle special cases.\n",
    "    \"\"\"\n",
    "    # Remove all-caps formatting\n",
    "    name = name.title()\n",
    "\n",
    "    # Handle specific cases first (before general rules)\n",
    "    specific_cases = {\n",
    "        \"Go, Bong Go\": \"Bong Go\",\n",
    "        \"Bong Revilla, Ramon, Jr.\": \"Ramon Bong Revilla Jr.\",\n",
    "        \"Bong Revilla\": \"Ramon Bong Revilla Jr.\",\n",
    "        \"Pacquiao, Manny Pacman\": \"Manny Pacquiao\",\n",
    "        \"Tolentino, Francis Tol\": \"Francis Tolentino\",\n",
    "        \"Salvador, Phillip Ipe\": \"Phillip Salvador\",\n",
    "        \"Revillame, Willie Wil\": \"Willie Revillame\",\n",
    "        \"Tulfo, Ben Bitag\": \"Ben Tulfo\",\n",
    "        \"Bosita, Colonel\": \"Bonifacio Bosita\",\n",
    "        \"Rodriguez, Atty. Vic\": \"Vic Rodriguez\",\n",
    "    }\n",
    "\n",
    "    # Check if the name (after title case) matches any specific case\n",
    "    for key, value in specific_cases.items():\n",
    "        if key.lower() == name.lower():\n",
    "            return value\n",
    "\n",
    "    # Handle comma-separated names (Last, First)\n",
    "    if ',' in name:\n",
    "        parts = name.split(',')\n",
    "        if len(parts) >= 2:\n",
    "            # Rearrange to \"First Last\" format\n",
    "            name = ' '.join([part.strip() for part in parts[1:] + [parts[0]]])\n",
    "\n",
    "    # Remove nicknames\n",
    "    name = re.sub(r'\\bPacman\\b', '', name)\n",
    "    name = re.sub(r'\\bTol\\b', '', name)\n",
    "    name = re.sub(r'\\bWil\\b', '', name)\n",
    "    name = re.sub(r'\\bBitag\\b', '', name)\n",
    "\n",
    "    # Fix common name variations\n",
    "    name_mapping = {\n",
    "        'Bato Dela Rosa': 'Bato dela Rosa',\n",
    "        'Panfilo Lacson': 'Ping Lacson',\n",
    "        'Francis Tolentino': 'Francis Tolentino',\n",
    "        'Phillip Ipe Salvador': 'Phillip Salvador',\n",
    "        'Willie Revillame': 'Willie Revillame',\n",
    "        'Ben Tulfo': 'Ben Tulfo',\n",
    "        'Colonel Bosita': 'Bonifacio Bosita',\n",
    "        'Atty. Vic Rodriguez': 'Vic Rodriguez',\n",
    "        'Rodante Marcoleta': 'Rodante Marcoleta',\n",
    "        'Kiko Pangilinan': 'Francis Kiko Pangilinan',\n",
    "    }\n",
    "\n",
    "    for key, value in name_mapping.items():\n",
    "        if key.lower() in name.lower():\n",
    "            name = value\n",
    "\n",
    "    # Clean up extra spaces\n",
    "    name = re.sub(r'\\s+', ' ', name).strip()\n",
    "\n",
    "    return name\n",
    "\n",
    "# Test the function with a few examples\n",
    "test_names = [\n",
    "    \"GO, BONG GO\",\n",
    "    \"AQUINO, BAM\",\n",
    "    \"DELA ROSA, BATO\",\n",
    "    \"BONG REVILLA, RAMON, JR.\",\n",
    "    \"Bong Go\",\n",
    "    \"Bam Aquino\",\n",
    "    \"Bato dela Rosa\"\n",
    "]\n",
    "\n",
    "for name in test_names:\n",
    "    print(f\"{name} -> {standardize_name(name)}\")\n"
   ],
   "id": "c148251ed1a95ac3"
  },
  {
   "metadata": {},
   "cell_type": "markdown",
   "source": [
    "## Process Actual Election Results\n",
    "\n",
    "Now we'll process the actual election results data from the markdown file.\n"
   ],
   "id": "781d8771bdc5aeef"
  },
  {
   "metadata": {},
   "cell_type": "code",
   "outputs": [],
   "execution_count": null,
   "source": [
    "def read_actual_results():\n",
    "    \"\"\"\n",
    "    Read and process the actual election results data.\n",
    "    \"\"\"\n",
    "    with open('data/raw-actual-results.md', 'r') as f:\n",
    "        lines = f.readlines()\n",
    "\n",
    "    # Extract header and data rows\n",
    "    header = lines[0].strip().split('|')[1:-1]  # Remove first and last empty elements\n",
    "    header = [h.strip() for h in header]\n",
    "\n",
    "    data = []\n",
    "    for line in lines[2:]:  # Skip header and separator lines\n",
    "        if '|' in line:\n",
    "            row = line.strip().split('|')[1:-1]  # Remove first and last empty elements\n",
    "            row = [cell.strip() for cell in row]\n",
    "            data.append(row)\n",
    "\n",
    "    # Create DataFrame\n",
    "    df = pd.DataFrame(data, columns=header)\n",
    "\n",
    "    # Standardize candidate names\n",
    "    df['Standardized Name'] = df['Candidate Name'].apply(standardize_name)\n",
    "\n",
    "    # Clean up number of votes (remove commas)\n",
    "    df['Number of Votes'] = df['Number of Votes'].str.replace(',', '').astype(int)\n",
    "\n",
    "    return df\n",
    "\n",
    "# Process and display the results\n",
    "results_df = read_actual_results()\n",
    "print(f\"Processed {len(results_df)} candidates from actual results\")\n",
    "results_df.head()\n"
   ],
   "id": "557b9e84cd480147"
  },
  {
   "metadata": {},
   "cell_type": "markdown",
   "source": [
    "## Process Opinion Poll Data\n",
    "\n",
    "Next, we'll process the opinion poll data from the markdown file.\n"
   ],
   "id": "a9da9fc184d928df"
  },
  {
   "metadata": {},
   "cell_type": "code",
   "outputs": [],
   "execution_count": null,
   "source": [
    "def read_opinion_polls():\n",
    "    \"\"\"\n",
    "    Read and process the opinion poll data.\n",
    "    \"\"\"\n",
    "    with open('data/raw-opinion-poll-data.md', 'r') as f:\n",
    "        lines = f.readlines()\n",
    "\n",
    "    # Extract header and data rows\n",
    "    header = []\n",
    "    for cell in lines[0].strip().split('|')[1:-1]:  # Remove first and last empty elements\n",
    "        cell = cell.strip()\n",
    "        # Handle multi-line headers with <br>\n",
    "        cell = cell.replace('<br>', ' ')\n",
    "        header.append(cell)\n",
    "\n",
    "    data = []\n",
    "    for line in lines[2:]:  # Skip header and separator lines\n",
    "        if '|' in line:\n",
    "            row = line.strip().split('|')[1:-1]  # Remove first and last empty elements\n",
    "            row = [cell.strip() for cell in row]\n",
    "            data.append(row)\n",
    "\n",
    "    # Create DataFrame\n",
    "    df = pd.DataFrame(data, columns=header)\n",
    "\n",
    "    # Standardize candidate names\n",
    "    df['Standardized Name'] = df['Candidate'].apply(standardize_name)\n",
    "\n",
    "    # Convert poll percentages to numeric values\n",
    "    for col in df.columns[2:]:  # Skip Candidate and Party columns\n",
    "        if 'OCTA' in col or 'SWS' in col or 'Pulse Asia' in col or 'WR Numero' in col or 'Arkipelago Analytics' in col or 'The Center' in col or 'DZRH' in col or 'Publicus Asia' in col:\n",
    "            # Remove % signs and convert to float\n",
    "            df[col] = df[col].str.replace('%', '').str.replace('**', '').str.replace('*', '').str.strip()\n",
    "            df[col] = pd.to_numeric(df[col], errors='coerce')\n",
    "\n",
    "    return df\n",
    "\n",
    "# Process and display the results\n",
    "polls_df = read_opinion_polls()\n",
    "print(f\"Processed {len(polls_df)} candidates from opinion polls\")\n",
    "polls_df.head()\n"
   ],
   "id": "1e89578bef9a7957"
  },
  {
   "metadata": {},
   "cell_type": "markdown",
   "source": [
    "## Save Processed Data\n",
    "\n",
    "Now we'll save the processed data to CSV files for easier loading in the future.\n"
   ],
   "id": "d21931aaff105707"
  },
  {
   "metadata": {},
   "cell_type": "code",
   "outputs": [],
   "execution_count": null,
   "source": [
    "# Save processed data to CSV\n",
    "results_df.to_csv('data/processed/actual_results.csv', index=False)\n",
    "polls_df.to_csv('data/processed/opinion_polls.csv', index=False)\n",
    "\n",
    "# Create a mapping file to help with name matching\n",
    "name_mapping = pd.DataFrame({\n",
    "    'Original Name': list(results_df['Candidate Name']) + list(polls_df['Candidate']),\n",
    "    'Standardized Name': list(results_df['Standardized Name']) + list(polls_df['Standardized Name'])\n",
    "}).drop_duplicates()\n",
    "\n",
    "name_mapping.to_csv('data/processed/name_mapping.csv', index=False)\n",
    "print(f\"Created name mapping with {len(name_mapping)} entries\")\n",
    "\n",
    "print(\"Data processing complete. Files saved to data/processed/\")\n"
   ],
   "id": "4acd9ea8e8185d53"
  },
  {
   "metadata": {},
   "cell_type": "markdown",
   "source": [
    "## Verify the Results\n",
    "\n",
    "Let's check that our standardization worked by looking at the name mapping file.\n"
   ],
   "id": "4e50a44c3af87ea1"
  },
  {
   "metadata": {},
   "cell_type": "code",
   "outputs": [],
   "execution_count": null,
   "source": [
    "# Load and display the name mapping\n",
    "name_mapping = pd.read_csv('data/processed/name_mapping.csv')\n",
    "name_mapping.sort_values('Standardized Name')\n"
   ],
   "id": "8c1eb4e24fa045a5"
  },
  {
   "metadata": {},
   "cell_type": "markdown",
   "source": [
    "## Conclusion\n",
    "\n",
    "We've successfully processed the raw election data by:\n",
    "1. Standardizing politician names for consistent matching\n",
    "2. Converting the data to CSV format for easier loading with pandas\n",
    "3. Creating a name mapping file to help with matching candidates across datasets\n",
    "\n",
    "The processed data is now ready for analysis!\n"
   ],
   "id": "4ddd4e0098566fcf"
  }
 ],
 "metadata": {
  "kernelspec": {
   "display_name": "Python 3",
   "language": "python",
   "name": "python3"
  },
  "language_info": {
   "codemirror_mode": {
    "name": "ipython",
    "version": 2
   },
   "file_extension": ".py",
   "mimetype": "text/x-python",
   "name": "python",
   "nbconvert_exporter": "python",
   "pygments_lexer": "ipython2",
   "version": "2.7.6"
  }
 },
 "nbformat": 4,
 "nbformat_minor": 5
}
